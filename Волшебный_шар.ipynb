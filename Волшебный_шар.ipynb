{
  "nbformat": 4,
  "nbformat_minor": 0,
  "metadata": {
    "colab": {
      "provenance": []
    },
    "kernelspec": {
      "name": "python3",
      "display_name": "Python 3"
    },
    "language_info": {
      "name": "python"
    }
  },
  "cells": [
    {
      "cell_type": "code",
      "execution_count": 1,
      "metadata": {
        "colab": {
          "base_uri": "https://localhost:8080/"
        },
        "id": "lOULmxACI3Zw",
        "outputId": "b8768272-e3dc-4133-cebf-a24c3943f3dd"
      },
      "outputs": [
        {
          "output_type": "stream",
          "name": "stdout",
          "text": [
            "Начальное число: 25\n",
            "В какую систему переводим: 2\n",
            "11001\n"
          ]
        }
      ],
      "source": [
        "n=int(input(\"Начальное число: \"))\n",
        "m=int(input(\"В какую систему переводим: \"))\n",
        "s=\"\"\n",
        "vol=[0,1,2,3,4,5,6,7,8,9,\"A\",\"B\",\"C\",\"D\",\"E\",\"F\"] #Это код из десятичной в любую\n",
        "while n!=0:\n",
        "    ch=n%m\n",
        "    s=str(vol[ch])+s\n",
        "    n//=m\n",
        "print(s)\n",
        "\n"
      ]
    },
    {
      "cell_type": "code",
      "source": [
        "# put your python code here\n",
        "from random import *\n",
        "n = randint(1,100)\n",
        "print('Добро пожаловать в числовую угадайку!!!')\n",
        "def is_valid():\n",
        "    if num.isdigit() and 1 <= int(num) and int(num) <= 100:\n",
        "        return True\n",
        "    else:\t\n",
        "        return False\n",
        "while True:\n",
        "    num = input('Введи число от 1 до 100, разрази тебя гром!!' )\n",
        "    if is_valid() == False:\n",
        "        print('ТЫ ЧЁ ПЁС ТВОРИШЬ?! От ЕДИНИЦЫ до СТА введи цифру!!')\n",
        "    if is_valid() == True:\n",
        "        n = int(n)\n",
        "        if int(num) < int(n):\n",
        "            print('Мимо! Бери большее число!')\n",
        "        if int(num) > int(n):\n",
        "            print( 'Хахаха! Ну ты и фуфел! Я загадал меньшее число. Попробуй ещё разок!')\n",
        "        if int(n) == int(num):\n",
        "            print('Угадал!! Умница, таки попал пальцем в дырку!')\n",
        "            break\n",
        "print('Заскучаешь, приходи. Погадаем исчЁ!))')"
      ],
      "metadata": {
        "colab": {
          "base_uri": "https://localhost:8080/"
        },
        "id": "v4NZijaLJMYX",
        "outputId": "703e1ffc-0561-4d03-9f48-ac9e1efb703b"
      },
      "execution_count": 2,
      "outputs": [
        {
          "output_type": "stream",
          "name": "stdout",
          "text": [
            "Добро пожаловать в числовую угадайку!!!\n",
            "Введи число от 1 до 100, разрази тебя гром!!50\n",
            "Мимо! Бери большее число!\n",
            "Введи число от 1 до 100, разрази тебя гром!!75\n",
            "Мимо! Бери большее число!\n",
            "Введи число от 1 до 100, разрази тебя гром!!83\n",
            "Хахаха! Ну ты и фуфел! Я загадал меньшее число. Попробуй ещё разок!\n",
            "Введи число от 1 до 100, разрази тебя гром!!77\n",
            "Хахаха! Ну ты и фуфел! Я загадал меньшее число. Попробуй ещё разок!\n",
            "Введи число от 1 до 100, разрази тебя гром!!70\n",
            "Мимо! Бери большее число!\n",
            "Введи число от 1 до 100, разрази тебя гром!!73\n",
            "Мимо! Бери большее число!\n",
            "Введи число от 1 до 100, разрази тебя гром!!75\n",
            "Мимо! Бери большее число!\n",
            "Введи число от 1 до 100, разрази тебя гром!!76\n",
            "Угадал!! Умница, таки попал пальцем в дырку!\n",
            "Заскучаешь, приходи. Погадаем исчЁ!))\n"
          ]
        }
      ]
    },
    {
      "cell_type": "code",
      "source": [
        "# запуск игры\n",
        "def qustion_2():\n",
        "    O = input()\n",
        "    if O == 'ДА':\n",
        "        print(qustion())\n",
        "    elif O == 'НЕТ':\n",
        "        print('Ну бывай тогда... Ты заходи, если што.')\n",
        "    else:\n",
        "        print('*Дымится и выключается....*')\n",
        "def qustion():\n",
        "    print('Изложи терзающий тебя вопрос, смертный биоробот... Учти, вопрос должен подразумевать ответ аля ДА/НЕТ!')\n",
        "    q = input()\n",
        "    print(choice(answers))\n",
        "    print('Есть исчё вопросы человек? Отвечай ДА\\НЕТ, а то я задымлюсь и выключюсь....')\n",
        "    qustion_2()\n",
        "from random import *\n",
        "answers = ['Таки да', 'Непременно батенька', 'Безспорно дЫА!','Ставлю почку, что ДА!','ОднозначНА ДА!', 'Вероятно, но не факт', 'ВозможнА', 'Скорее ДА, чем нетЪ', 'Быть может...', 'Наверная угу','Вероятность, как встретить на улиице динозавра... Либо ДА либо НЕТ. Кароч 50 на 50', 'ХэЗэ','Бильмим', 'Не знаю, спроси Тимура...', 'Сконцентрируйся и задай вопрос по новой','НетЪ', 'Этого не будет', 'Шишь', 'Фигушки','Уверен что нет на целых 90 процентоф!']\n",
        "print('Шалом бедолаги!!! Я волшебная машина, знаю ответы на фсЁ! Назовись, отрок своего атца?!')\n",
        "name = input()\n",
        "print('Ну сдравствуй, бедолага:', name)\n",
        "qustion()\n"
      ],
      "metadata": {
        "colab": {
          "base_uri": "https://localhost:8080/",
          "height": 416
        },
        "id": "xB6YvsItJktS",
        "outputId": "9f32fa2d-3843-4c49-c482-b4b47290ddfd"
      },
      "execution_count": 4,
      "outputs": [
        {
          "output_type": "stream",
          "name": "stdout",
          "text": [
            "Шалом бедолаги!!! Я волшебная машина, знаю ответы на фсЁ! Назовись, отрок своего атца?!\n"
          ]
        },
        {
          "output_type": "error",
          "ename": "KeyboardInterrupt",
          "evalue": "ignored",
          "traceback": [
            "\u001b[0;31m---------------------------------------------------------------------------\u001b[0m",
            "\u001b[0;31mKeyboardInterrupt\u001b[0m                         Traceback (most recent call last)",
            "\u001b[0;32m<ipython-input-4-e59c6c347d71>\u001b[0m in \u001b[0;36m<module>\u001b[0;34m\u001b[0m\n\u001b[1;32m     17\u001b[0m \u001b[0manswers\u001b[0m \u001b[0;34m=\u001b[0m \u001b[0;34m[\u001b[0m\u001b[0;34m'Таки да'\u001b[0m\u001b[0;34m,\u001b[0m \u001b[0;34m'Непременно батенька'\u001b[0m\u001b[0;34m,\u001b[0m \u001b[0;34m'Безспорно дЫА!'\u001b[0m\u001b[0;34m,\u001b[0m\u001b[0;34m'Ставлю почку, что ДА!'\u001b[0m\u001b[0;34m,\u001b[0m\u001b[0;34m'ОднозначНА ДА!'\u001b[0m\u001b[0;34m,\u001b[0m \u001b[0;34m'Вероятно, но не факт'\u001b[0m\u001b[0;34m,\u001b[0m \u001b[0;34m'ВозможнА'\u001b[0m\u001b[0;34m,\u001b[0m \u001b[0;34m'Скорее ДА, чем нетЪ'\u001b[0m\u001b[0;34m,\u001b[0m \u001b[0;34m'Быть может...'\u001b[0m\u001b[0;34m,\u001b[0m \u001b[0;34m'Наверная угу'\u001b[0m\u001b[0;34m,\u001b[0m\u001b[0;34m'Вероятность, как встретить на улиице динозавра... Либо ДА либо НЕТ. Кароч 50 на 50'\u001b[0m\u001b[0;34m,\u001b[0m \u001b[0;34m'ХэЗэ'\u001b[0m\u001b[0;34m,\u001b[0m\u001b[0;34m'Бильмим'\u001b[0m\u001b[0;34m,\u001b[0m \u001b[0;34m'Не знаю, спроси Тимура...'\u001b[0m\u001b[0;34m,\u001b[0m \u001b[0;34m'Сконцентрируйся и задай вопрос по новой'\u001b[0m\u001b[0;34m,\u001b[0m\u001b[0;34m'НетЪ'\u001b[0m\u001b[0;34m,\u001b[0m \u001b[0;34m'Этого не будет'\u001b[0m\u001b[0;34m,\u001b[0m \u001b[0;34m'Шишь'\u001b[0m\u001b[0;34m,\u001b[0m \u001b[0;34m'Фигушки'\u001b[0m\u001b[0;34m,\u001b[0m\u001b[0;34m'Уверен что нет на целых 90 процентоф!'\u001b[0m\u001b[0;34m]\u001b[0m\u001b[0;34m\u001b[0m\u001b[0;34m\u001b[0m\u001b[0m\n\u001b[1;32m     18\u001b[0m \u001b[0mprint\u001b[0m\u001b[0;34m(\u001b[0m\u001b[0;34m'Шалом бедолаги!!! Я волшебная машина, знаю ответы на фсЁ! Назовись, отрок своего атца?!'\u001b[0m\u001b[0;34m)\u001b[0m\u001b[0;34m\u001b[0m\u001b[0;34m\u001b[0m\u001b[0m\n\u001b[0;32m---> 19\u001b[0;31m \u001b[0mname\u001b[0m \u001b[0;34m=\u001b[0m \u001b[0minput\u001b[0m\u001b[0;34m(\u001b[0m\u001b[0;34m)\u001b[0m\u001b[0;34m\u001b[0m\u001b[0;34m\u001b[0m\u001b[0m\n\u001b[0m\u001b[1;32m     20\u001b[0m \u001b[0mprint\u001b[0m\u001b[0;34m(\u001b[0m\u001b[0;34m'Ну сдравствуй, бедолага:'\u001b[0m\u001b[0;34m,\u001b[0m \u001b[0mname\u001b[0m\u001b[0;34m)\u001b[0m\u001b[0;34m\u001b[0m\u001b[0;34m\u001b[0m\u001b[0m\n\u001b[1;32m     21\u001b[0m \u001b[0mqustion\u001b[0m\u001b[0;34m(\u001b[0m\u001b[0;34m)\u001b[0m\u001b[0;34m\u001b[0m\u001b[0;34m\u001b[0m\u001b[0m\n",
            "\u001b[0;32m/usr/local/lib/python3.7/dist-packages/ipykernel/kernelbase.py\u001b[0m in \u001b[0;36mraw_input\u001b[0;34m(self, prompt)\u001b[0m\n\u001b[1;32m    861\u001b[0m             \u001b[0mself\u001b[0m\u001b[0;34m.\u001b[0m\u001b[0m_parent_ident\u001b[0m\u001b[0;34m,\u001b[0m\u001b[0;34m\u001b[0m\u001b[0;34m\u001b[0m\u001b[0m\n\u001b[1;32m    862\u001b[0m             \u001b[0mself\u001b[0m\u001b[0;34m.\u001b[0m\u001b[0m_parent_header\u001b[0m\u001b[0;34m,\u001b[0m\u001b[0;34m\u001b[0m\u001b[0;34m\u001b[0m\u001b[0m\n\u001b[0;32m--> 863\u001b[0;31m             \u001b[0mpassword\u001b[0m\u001b[0;34m=\u001b[0m\u001b[0;32mFalse\u001b[0m\u001b[0;34m,\u001b[0m\u001b[0;34m\u001b[0m\u001b[0;34m\u001b[0m\u001b[0m\n\u001b[0m\u001b[1;32m    864\u001b[0m         )\n\u001b[1;32m    865\u001b[0m \u001b[0;34m\u001b[0m\u001b[0m\n",
            "\u001b[0;32m/usr/local/lib/python3.7/dist-packages/ipykernel/kernelbase.py\u001b[0m in \u001b[0;36m_input_request\u001b[0;34m(self, prompt, ident, parent, password)\u001b[0m\n\u001b[1;32m    902\u001b[0m             \u001b[0;32mexcept\u001b[0m \u001b[0mKeyboardInterrupt\u001b[0m\u001b[0;34m:\u001b[0m\u001b[0;34m\u001b[0m\u001b[0;34m\u001b[0m\u001b[0m\n\u001b[1;32m    903\u001b[0m                 \u001b[0;31m# re-raise KeyboardInterrupt, to truncate traceback\u001b[0m\u001b[0;34m\u001b[0m\u001b[0;34m\u001b[0m\u001b[0;34m\u001b[0m\u001b[0m\n\u001b[0;32m--> 904\u001b[0;31m                 \u001b[0;32mraise\u001b[0m \u001b[0mKeyboardInterrupt\u001b[0m\u001b[0;34m(\u001b[0m\u001b[0;34m\"Interrupted by user\"\u001b[0m\u001b[0;34m)\u001b[0m \u001b[0;32mfrom\u001b[0m \u001b[0;32mNone\u001b[0m\u001b[0;34m\u001b[0m\u001b[0;34m\u001b[0m\u001b[0m\n\u001b[0m\u001b[1;32m    905\u001b[0m             \u001b[0;32mexcept\u001b[0m \u001b[0mException\u001b[0m \u001b[0;32mas\u001b[0m \u001b[0me\u001b[0m\u001b[0;34m:\u001b[0m\u001b[0;34m\u001b[0m\u001b[0;34m\u001b[0m\u001b[0m\n\u001b[1;32m    906\u001b[0m                 \u001b[0mself\u001b[0m\u001b[0;34m.\u001b[0m\u001b[0mlog\u001b[0m\u001b[0;34m.\u001b[0m\u001b[0mwarning\u001b[0m\u001b[0;34m(\u001b[0m\u001b[0;34m\"Invalid Message:\"\u001b[0m\u001b[0;34m,\u001b[0m \u001b[0mexc_info\u001b[0m\u001b[0;34m=\u001b[0m\u001b[0;32mTrue\u001b[0m\u001b[0;34m)\u001b[0m\u001b[0;34m\u001b[0m\u001b[0;34m\u001b[0m\u001b[0m\n",
            "\u001b[0;31mKeyboardInterrupt\u001b[0m: Interrupted by user"
          ]
        }
      ]
    }
  ]
}